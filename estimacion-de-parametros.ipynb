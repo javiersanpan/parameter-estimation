{
 "cells": [
  {
   "cell_type": "markdown",
   "id": "bb24c782-5625-4993-ba67-dd598b2f0324",
   "metadata": {},
   "source": [
    "Francisco Javier Sanchez Panduro\n",
    "A01639832"
   ]
  },
  {
   "cell_type": "code",
   "execution_count": 1,
   "id": "a094cdc8-80a7-4433-92cb-19212a448148",
   "metadata": {},
   "outputs": [],
   "source": [
    "import pandas as pd\n",
    "import matplotlib.pyplot as plt\n",
    "import numpy as np"
   ]
  },
  {
   "cell_type": "code",
   "execution_count": 2,
   "id": "ded44384-0064-4da5-9459-f86bda6f0f73",
   "metadata": {},
   "outputs": [],
   "source": [
    "df = pd.read_excel('./data/baterias.xlsx')"
   ]
  },
  {
   "cell_type": "code",
   "execution_count": 3,
   "id": "6939d902-e091-462d-808a-728afad27baa",
   "metadata": {},
   "outputs": [
    {
     "data": {
      "text/html": [
       "<div>\n",
       "<style scoped>\n",
       "    .dataframe tbody tr th:only-of-type {\n",
       "        vertical-align: middle;\n",
       "    }\n",
       "\n",
       "    .dataframe tbody tr th {\n",
       "        vertical-align: top;\n",
       "    }\n",
       "\n",
       "    .dataframe thead th {\n",
       "        text-align: right;\n",
       "    }\n",
       "</style>\n",
       "<table border=\"1\" class=\"dataframe\">\n",
       "  <thead>\n",
       "    <tr style=\"text-align: right;\">\n",
       "      <th></th>\n",
       "      <th>numero_de_bateria</th>\n",
       "      <th>tiempo_hasta_agotar</th>\n",
       "    </tr>\n",
       "  </thead>\n",
       "  <tbody>\n",
       "    <tr>\n",
       "      <th>0</th>\n",
       "      <td>1</td>\n",
       "      <td>0.156423</td>\n",
       "    </tr>\n",
       "    <tr>\n",
       "      <th>1</th>\n",
       "      <td>2</td>\n",
       "      <td>1.003374</td>\n",
       "    </tr>\n",
       "    <tr>\n",
       "      <th>2</th>\n",
       "      <td>3</td>\n",
       "      <td>0.438915</td>\n",
       "    </tr>\n",
       "    <tr>\n",
       "      <th>3</th>\n",
       "      <td>4</td>\n",
       "      <td>0.304314</td>\n",
       "    </tr>\n",
       "    <tr>\n",
       "      <th>4</th>\n",
       "      <td>5</td>\n",
       "      <td>0.056542</td>\n",
       "    </tr>\n",
       "    <tr>\n",
       "      <th>...</th>\n",
       "      <td>...</td>\n",
       "      <td>...</td>\n",
       "    </tr>\n",
       "    <tr>\n",
       "      <th>995</th>\n",
       "      <td>996</td>\n",
       "      <td>0.032017</td>\n",
       "    </tr>\n",
       "    <tr>\n",
       "      <th>996</th>\n",
       "      <td>997</td>\n",
       "      <td>0.830900</td>\n",
       "    </tr>\n",
       "    <tr>\n",
       "      <th>997</th>\n",
       "      <td>998</td>\n",
       "      <td>0.049043</td>\n",
       "    </tr>\n",
       "    <tr>\n",
       "      <th>998</th>\n",
       "      <td>999</td>\n",
       "      <td>1.000164</td>\n",
       "    </tr>\n",
       "    <tr>\n",
       "      <th>999</th>\n",
       "      <td>1000</td>\n",
       "      <td>0.196867</td>\n",
       "    </tr>\n",
       "  </tbody>\n",
       "</table>\n",
       "<p>1000 rows × 2 columns</p>\n",
       "</div>"
      ],
      "text/plain": [
       "     numero_de_bateria  tiempo_hasta_agotar\n",
       "0                    1             0.156423\n",
       "1                    2             1.003374\n",
       "2                    3             0.438915\n",
       "3                    4             0.304314\n",
       "4                    5             0.056542\n",
       "..                 ...                  ...\n",
       "995                996             0.032017\n",
       "996                997             0.830900\n",
       "997                998             0.049043\n",
       "998                999             1.000164\n",
       "999               1000             0.196867\n",
       "\n",
       "[1000 rows x 2 columns]"
      ]
     },
     "execution_count": 3,
     "metadata": {},
     "output_type": "execute_result"
    }
   ],
   "source": [
    "df"
   ]
  },
  {
   "cell_type": "code",
   "execution_count": 4,
   "id": "dc75de06-3e29-44ef-a9db-30a372afb6cb",
   "metadata": {},
   "outputs": [
    {
     "data": {
      "image/png": "[encoded data removed]",
      "text/plain": [
       "<Figure size 640x480 with 1 Axes>"
      ]
     },
     "metadata": {},
     "output_type": "display_data"
    }
   ],
   "source": [
    "plt.hist(df['tiempo_hasta_agotar'])\n",
    "plt.show()"
   ]
  },
  {
   "cell_type": "markdown",
   "id": "72a07425-9096-4517-8270-7f91cecd58f4",
   "metadata": {},
   "source": [
    "Para calcular el valor esperado se usa \n",
    "$$\n",
    "\\frac{1}{\\lambda}\n",
    "$$"
   ]
  },
  {
   "cell_type": "markdown",
   "id": "7830db7c-dcac-4f87-9f21-bb1a9e39a7eb",
   "metadata": {},
   "source": [
    "Para calcular lambda se usa la formula de máxima verosimilitud de una función geométrica\n",
    "$$\n",
    "\\lambda = \\frac{1}{\\bar x}\n",
    "$$"
   ]
  },
  {
   "cell_type": "code",
   "execution_count": 5,
   "id": "5aef5857-bc53-4310-96ec-fb7308cfdc53",
   "metadata": {},
   "outputs": [
    {
     "data": {
      "text/plain": [
       "0.32416864932174144"
      ]
     },
     "execution_count": 5,
     "metadata": {},
     "output_type": "execute_result"
    }
   ],
   "source": [
    "promedio = df['tiempo_hasta_agotar'].mean()\n",
    "promedio"
   ]
  },
  {
   "cell_type": "code",
   "execution_count": 6,
   "id": "0f4d5a23-e382-4862-9c8b-d3df79b82742",
   "metadata": {},
   "outputs": [
    {
     "data": {
      "text/plain": [
       "0.32416864932174144"
      ]
     },
     "execution_count": 6,
     "metadata": {},
     "output_type": "execute_result"
    }
   ],
   "source": [
    "lambda_valor = 1/promedio\n",
    "valor_esperado = 1/lambda_valor\n",
    "\n",
    "valor_esperado"
   ]
  },
  {
   "cell_type": "markdown",
   "id": "662adeb7-237b-4f49-ab09-fb1f6f03f256",
   "metadata": {},
   "source": [
    "# Ejercicio 2"
   ]
  },
  {
   "cell_type": "code",
   "execution_count": 7,
   "id": "340898c3-a759-436b-8fd5-5f233992da0b",
   "metadata": {},
   "outputs": [
    {
     "data": {
      "text/html": [
       "<div>\n",
       "<style scoped>\n",
       "    .dataframe tbody tr th:only-of-type {\n",
       "        vertical-align: middle;\n",
       "    }\n",
       "\n",
       "    .dataframe tbody tr th {\n",
       "        vertical-align: top;\n",
       "    }\n",
       "\n",
       "    .dataframe thead th {\n",
       "        text-align: right;\n",
       "    }\n",
       "</style>\n",
       "<table border=\"1\" class=\"dataframe\">\n",
       "  <thead>\n",
       "    <tr style=\"text-align: right;\">\n",
       "      <th></th>\n",
       "      <th>problema</th>\n",
       "      <th>intentos_hasta_resolver</th>\n",
       "    </tr>\n",
       "  </thead>\n",
       "  <tbody>\n",
       "    <tr>\n",
       "      <th>0</th>\n",
       "      <td>1</td>\n",
       "      <td>2</td>\n",
       "    </tr>\n",
       "    <tr>\n",
       "      <th>1</th>\n",
       "      <td>2</td>\n",
       "      <td>9</td>\n",
       "    </tr>\n",
       "    <tr>\n",
       "      <th>2</th>\n",
       "      <td>3</td>\n",
       "      <td>4</td>\n",
       "    </tr>\n",
       "    <tr>\n",
       "      <th>3</th>\n",
       "      <td>4</td>\n",
       "      <td>3</td>\n",
       "    </tr>\n",
       "    <tr>\n",
       "      <th>4</th>\n",
       "      <td>5</td>\n",
       "      <td>1</td>\n",
       "    </tr>\n",
       "    <tr>\n",
       "      <th>...</th>\n",
       "      <td>...</td>\n",
       "      <td>...</td>\n",
       "    </tr>\n",
       "    <tr>\n",
       "      <th>1495</th>\n",
       "      <td>1496</td>\n",
       "      <td>4</td>\n",
       "    </tr>\n",
       "    <tr>\n",
       "      <th>1496</th>\n",
       "      <td>1497</td>\n",
       "      <td>3</td>\n",
       "    </tr>\n",
       "    <tr>\n",
       "      <th>1497</th>\n",
       "      <td>1498</td>\n",
       "      <td>2</td>\n",
       "    </tr>\n",
       "    <tr>\n",
       "      <th>1498</th>\n",
       "      <td>1499</td>\n",
       "      <td>2</td>\n",
       "    </tr>\n",
       "    <tr>\n",
       "      <th>1499</th>\n",
       "      <td>1500</td>\n",
       "      <td>6</td>\n",
       "    </tr>\n",
       "  </tbody>\n",
       "</table>\n",
       "<p>1500 rows × 2 columns</p>\n",
       "</div>"
      ],
      "text/plain": [
       "      problema  intentos_hasta_resolver\n",
       "0            1                        2\n",
       "1            2                        9\n",
       "2            3                        4\n",
       "3            4                        3\n",
       "4            5                        1\n",
       "...        ...                      ...\n",
       "1495      1496                        4\n",
       "1496      1497                        3\n",
       "1497      1498                        2\n",
       "1498      1499                        2\n",
       "1499      1500                        6\n",
       "\n",
       "[1500 rows x 2 columns]"
      ]
     },
     "execution_count": 7,
     "metadata": {},
     "output_type": "execute_result"
    }
   ],
   "source": [
    "df2 = pd.read_excel('./data/software.xlsx')\n",
    "df2"
   ]
  },
  {
   "cell_type": "code",
   "execution_count": 8,
   "id": "6b7fa270-685a-4931-bf09-6f22337b4c99",
   "metadata": {},
   "outputs": [
    {
     "data": {
      "image/png": "[encoded data removed]",
      "text/plain": [
       "<Figure size 640x480 with 1 Axes>"
      ]
     },
     "metadata": {},
     "output_type": "display_data"
    }
   ],
   "source": [
    "plt.hist(df2['intentos_hasta_resolver'])\n",
    "plt.show()"
   ]
  },
  {
   "cell_type": "markdown",
   "id": "f731986c-0ff7-4401-ae82-6a8985fdb46e",
   "metadata": {},
   "source": [
    "Valor esperado $\\frac{1}{p}$"
   ]
  },
  {
   "cell_type": "markdown",
   "id": "7b928df9-8467-4447-a11f-6f4abcca11c5",
   "metadata": {},
   "source": [
    "Calcular p $$\\hat{p} = \\frac{n}{\\sum_{i=1}^{n}{i}}$$"
   ]
  },
  {
   "cell_type": "code",
   "execution_count": 9,
   "id": "ab59a224-71b8-4585-ae5f-47eced4225fa",
   "metadata": {},
   "outputs": [
    {
     "data": {
      "text/plain": [
       "5037"
      ]
     },
     "execution_count": 9,
     "metadata": {},
     "output_type": "execute_result"
    }
   ],
   "source": [
    "suma = df2['intentos_hasta_resolver'].sum()\n",
    "suma"
   ]
  },
  {
   "cell_type": "code",
   "execution_count": 10,
   "id": "0f222f2a-266f-4dfc-bca5-0218952a9a8d",
   "metadata": {},
   "outputs": [
    {
     "data": {
      "text/plain": [
       "1500"
      ]
     },
     "execution_count": 10,
     "metadata": {},
     "output_type": "execute_result"
    }
   ],
   "source": [
    "n = df2['intentos_hasta_resolver'].count()\n",
    "n"
   ]
  },
  {
   "cell_type": "code",
   "execution_count": 11,
   "id": "2c035e95-e336-4a8b-b49f-18449fa50204",
   "metadata": {},
   "outputs": [
    {
     "data": {
      "text/plain": [
       "0.29779630732578916"
      ]
     },
     "execution_count": 11,
     "metadata": {},
     "output_type": "execute_result"
    }
   ],
   "source": [
    "p = n/suma\n",
    "p"
   ]
  },
  {
   "cell_type": "code",
   "execution_count": 12,
   "id": "a9b2d441-46e8-4ce1-a2d8-85259a3af28e",
   "metadata": {},
   "outputs": [
    {
     "data": {
      "text/plain": [
       "3.358"
      ]
     },
     "execution_count": 12,
     "metadata": {},
     "output_type": "execute_result"
    }
   ],
   "source": [
    "valor_esperado2 = 1/p\n",
    "valor_esperado2"
   ]
  }
 ],
 "metadata": {
  "kernelspec": {
   "display_name": "Python 3 (ipykernel)",
   "language": "python",
   "name": "python3"
  },
  "language_info": {
   "codemirror_mode": {
    "name": "ipython",
    "version": 3
   },
   "file_extension": ".py",
   "mimetype": "text/x-python",
   "name": "python",
   "nbconvert_exporter": "python",
   "pygments_lexer": "ipython3",
   "version": "3.11.4"
  }
 },
 "nbformat": 4,
 "nbformat_minor": 5
}
